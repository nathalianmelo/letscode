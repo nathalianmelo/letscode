{
 "cells": [
  {
   "cell_type": "code",
   "execution_count": null,
   "id": "00ee510a",
   "metadata": {},
   "outputs": [],
   "source": [
    "import requests as r\n",
    "url = 'https://api.covid19api.com/dayone/country/brazil'\n",
    "resp = r.get(url)"
   ]
  },
  {
   "cell_type": "code",
   "execution_count": null,
   "id": "73291320",
   "metadata": {},
   "outputs": [],
   "source": [
    "resp.status_code"
   ]
  },
  {
   "cell_type": "code",
   "execution_count": null,
   "id": "42dada17",
   "metadata": {},
   "outputs": [],
   "source": [
    "raw_data = resp.json()"
   ]
  },
  {
   "cell_type": "code",
   "execution_count": null,
   "id": "6aef28da",
   "metadata": {},
   "outputs": [],
   "source": [
    "raw_data[0]"
   ]
  },
  {
   "cell_type": "code",
   "execution_count": null,
   "id": "5109e62c",
   "metadata": {},
   "outputs": [],
   "source": [
    "final_data = []\n",
    "for obs in raw_data:\n",
    "    final_data.append([obs['Confirmed'], obs['Deaths'], obs['Recovered'], obs['Active'], obs['Date']])"
   ]
  },
  {
   "cell_type": "code",
   "execution_count": null,
   "id": "e0aa2ac8",
   "metadata": {},
   "outputs": [],
   "source": [
    "final_data.insert(0, ['confirmados', 'obitos', 'recuperados', 'ativos', 'data'])\n",
    "final_data"
   ]
  },
  {
   "cell_type": "code",
   "execution_count": null,
   "id": "44cb33b4",
   "metadata": {},
   "outputs": [],
   "source": [
    "CONFIRMADOS = 0\n",
    "OBITOS = 1\n",
    "RECUPERADOS = 2\n",
    "ATIVOS = 3\n",
    "DATA = 4"
   ]
  },
  {
   "cell_type": "code",
   "execution_count": null,
   "id": "eb3e56e0",
   "metadata": {},
   "outputs": [],
   "source": [
    "for i in range(1, len(final_data)):\n",
    "    final_data[i][DATA] = final_data[i][DATA][:10]"
   ]
  },
  {
   "cell_type": "code",
   "execution_count": null,
   "id": "a74a0a50",
   "metadata": {
    "scrolled": false
   },
   "outputs": [],
   "source": [
    "final_data"
   ]
  },
  {
   "cell_type": "code",
   "execution_count": null,
   "id": "aed967cb",
   "metadata": {},
   "outputs": [],
   "source": [
    "import datetime as dt"
   ]
  },
  {
   "cell_type": "code",
   "execution_count": null,
   "id": "8b3ccf49",
   "metadata": {},
   "outputs": [],
   "source": [
    "import csv"
   ]
  },
  {
   "cell_type": "code",
   "execution_count": null,
   "id": "87f9f786",
   "metadata": {},
   "outputs": [],
   "source": [
    "with open ('brasil-covid.csv','w') as file:\n",
    "    writer = csv.writer(file)\n",
    "    writer.writerows(final_data)"
   ]
  },
  {
   "cell_type": "code",
   "execution_count": null,
   "id": "5077e2e4",
   "metadata": {},
   "outputs": [],
   "source": [
    "for i in range(1, len(final_data)):\n",
    "    final_data[i][DATA] = dt.datetime.strptime(final_data[i][DATA], '%Y-%m-%d')"
   ]
  },
  {
   "cell_type": "code",
   "execution_count": null,
   "id": "239f27dc",
   "metadata": {},
   "outputs": [],
   "source": [
    "final_data"
   ]
  },
  {
   "cell_type": "code",
   "execution_count": null,
   "id": "99e90252",
   "metadata": {},
   "outputs": [],
   "source": [
    "def get_datasets(y, labels):\n",
    "    if type(y[0]) == list:\n",
    "        datasets = []\n",
    "        for i in range(1, len(y)):\n",
    "            datasets.append({'label':labels[i],\n",
    "                            'data': y[i]\n",
    "                            })\n",
    "            return datasets\n",
    "    else:\n",
    "        return [{'label': labels[0],\n",
    "               'data': y\n",
    "                }]\n",
    "        "
   ]
  },
  {
   "cell_type": "code",
   "execution_count": null,
   "id": "53a679e5",
   "metadata": {},
   "outputs": [],
   "source": [
    "def set_titles(title=''):\n",
    "    if title != '':\n",
    "        display = 'true'\n",
    "    else:\n",
    "        display = 'false'\n",
    "    return{'title': title,\n",
    "          'display': display}"
   ]
  },
  {
   "cell_type": "code",
   "execution_count": null,
   "id": "183dc166",
   "metadata": {},
   "outputs": [],
   "source": [
    "def create_chart(x, y, labels, kind ='bar', title=''):\n",
    "    datasets = get_datasets(y,labels)\n",
    "   \n",
    "    options = set_titles(title)\n",
    "    \n",
    "    chart = {'type':kind,\n",
    "            'data': {'labels':x,\n",
    "                    'datasets': datasets},\n",
    "            'options': options}\n",
    "    return chart"
   ]
  },
  {
   "cell_type": "code",
   "execution_count": null,
   "id": "1488e2a3",
   "metadata": {},
   "outputs": [],
   "source": [
    "def get_api_chart(chart):\n",
    "    url_base = 'https://quickchart.io/chart'\n",
    "    resp = r.get(f'{url_base}?c={str(chart)}')\n",
    "    return resp.content"
   ]
  },
  {
   "cell_type": "code",
   "execution_count": null,
   "id": "7bf99c90",
   "metadata": {},
   "outputs": [],
   "source": [
    "def save_image(path , content):\n",
    "    with open (path , 'wb') as image:\n",
    "        image.write(content)"
   ]
  },
  {
   "cell_type": "code",
   "execution_count": null,
   "id": "b5e06f1a",
   "metadata": {},
   "outputs": [],
   "source": [
    "from PIL import Image\n",
    "from IPython.display import display"
   ]
  },
  {
   "cell_type": "code",
   "execution_count": null,
   "id": "fb2f4aa9",
   "metadata": {},
   "outputs": [],
   "source": [
    "def display_image(path):\n",
    "    img_pil = Image.open(path)\n",
    "    display(img_pil)"
   ]
  },
  {
   "cell_type": "code",
   "execution_count": null,
   "id": "a4e86519",
   "metadata": {},
   "outputs": [],
   "source": [
    "y_data_1 = []\n",
    "for obs in final_data[1::10]:\n",
    "    y_data_1.append(obs[CONFIRMADOS])\n",
    "    \n",
    "y_data_2 = []\n",
    "for obs in final_data[1::10]:\n",
    "    y_data_2.append(obs[RECUPERADOS])\n",
    "    \n",
    "labels = ['confirmados', 'recuperados']\n",
    "\n",
    "x = []\n",
    "for obs in final_data[1::10]:\n",
    "    x.append(obs[DATA].strftime('%d/%m/%Y'))\n",
    "    \n",
    "chart = create_chart(x, [y_data_1, y_data_2], labels, kind='bar', title = 'Gráfico confirmados vs recuperados')\n",
    "chart_content = get_api_chart(chart)\n",
    "save_image('meu-primeiro-grafico.png', chart_content)\n",
    "display_image('meu-primeiro-grafico.png')"
   ]
  }
 ],
 "metadata": {
  "kernelspec": {
   "display_name": "Python 3",
   "language": "python",
   "name": "python3"
  },
  "language_info": {
   "codemirror_mode": {
    "name": "ipython",
    "version": 3
   },
   "file_extension": ".py",
   "mimetype": "text/x-python",
   "name": "python",
   "nbconvert_exporter": "python",
   "pygments_lexer": "ipython3",
   "version": "3.8.8"
  }
 },
 "nbformat": 4,
 "nbformat_minor": 5
}
